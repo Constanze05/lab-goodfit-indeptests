{
 "cells": [
  {
   "cell_type": "markdown",
   "metadata": {},
   "source": [
    "## Question 1\n",
    "The following table indicates the number of 6-point scores in an American rugby match in the 1979 season.\n",
    "\n",
    "![](table1.png)\n",
    "\n",
    "Based on these results, we create a Poisson distribution with the sample mean parameter  = 2.435. Is there any reason to believe that at a .05 level the number of scores is a Poisson variable?"
   ]
  },
  {
   "cell_type": "code",
   "execution_count": 1,
   "metadata": {},
   "outputs": [
    {
     "data": {
      "text/plain": [
       "Power_divergenceResult(statistic=6.491310681109821, pvalue=0.4836889068537269)"
      ]
     },
     "execution_count": 1,
     "metadata": {},
     "output_type": "execute_result"
    }
   ],
   "source": [
    "# your answer here\n",
    "\n",
    "import numpy as np\n",
    "import pandas as pd\n",
    "import seaborn as sns\n",
    "from scipy.stats import ttest_1samp, ttest_rel, ttest_ind\n",
    "from scipy.stats import f_oneway\n",
    "from scipy.stats import poisson\n",
    "from scipy import stats\n",
    "import matplotlib.pyplot as plt\n",
    "\n",
    "\n",
    "# poisson = how many events in timeframe\n",
    "\n",
    "# H0: The sample data follow the poisson distribution\n",
    "# H1: The sample data do not follow the poisson distribution\n",
    "\n",
    "# For distribution tests, small p-values indicate that you can reject the null hypothesis and conclude \n",
    "# that your data were not drawn from a population with the specified distribution.\n",
    "\n",
    "total_times = 448  # of observations\n",
    "mu = 2.435         # sample mean parameter, used to create poisson distribution   \n",
    "\n",
    "times = [35,99,104,110,62,25,10,3]  # y\n",
    "scores = [0,1,2,3,4,5,6,7]  # x\n",
    "\n",
    "\n",
    "n_scores = len(scores) # amount of probabilities to calculate\n",
    "\n",
    "probability = [poisson.pmf(i,mu) for i in range(n_scores -1)] # 7 probability calculations assuming poisson \n",
    "probability.append(1-sum(probability)) # 8th probability calculation (because it's 7+)\n",
    "\n",
    "exp_val = [p*total_times for p in probability] # with probability from poisson distribution --> calculate expected values\n",
    "\n",
    "stats.chisquare(times, f_exp=exp_val) # comparison if exp_values are similar to given values \n",
    "\n",
    "# p-value we can't reject the null hypothesis, the given values don't represent a poisson distribution, number of scores is not a poisson varibale."
   ]
  },
  {
   "cell_type": "markdown",
   "metadata": {},
   "source": [
    "## Question 2\n",
    "The following are the ordered values of a random sample of SAT scores (university entrance exam) for several students: 852, 875, 910, 933, 957, 963, 981, 998, 1010, 1015, 1018, 1023, 1035, 1048, 1063. In previous years, the scores were presented by N (985,50). Based on the sample, is there any reason to believe that there has been a change in the distribution of scores this year? Use the level alpha = 0.05. "
   ]
  },
  {
   "cell_type": "code",
   "execution_count": 8,
   "metadata": {},
   "outputs": [
    {
     "data": {
      "text/plain": [
       "KstestResult(statistic=0.1581291279406798, pvalue=0.847406396427736)"
      ]
     },
     "execution_count": 8,
     "metadata": {},
     "output_type": "execute_result"
    }
   ],
   "source": [
    "#your answer here: one sample, did something change in the distribution?\n",
    "# H0: The sample data follow the same distribution\n",
    "# H1: The sample data do not follow the same distribution\n",
    "# assuming that it's a normal distribution\n",
    "\n",
    "scores = [852, 875, 910, 933, 957, 963, 981, 998, 1010, 1015, 1018, 1023, 1035, 1048, 1063] # test results\n",
    "\n",
    "# loc and scale from year before to create the normal probability distribution\n",
    "\n",
    "n = stats.norm(loc = 985, scale = 50) # generate a normal continuous random variable with given pararmeters as reference probability distribution \n",
    "\n",
    "stats.kstest(scores, n.cdf)  # kstest with (Cumulative distribution function)\n",
    "\n",
    "# p-value is high -> we can not reject the H0"
   ]
  },
  {
   "cell_type": "markdown",
   "metadata": {},
   "source": [
    "## Question 3\n",
    "Let's analyze a discrete distribution. To analyze the number of defective items in a factory in the city of Medellín, we took a random sample of n = 60 articles and observed the number of defectives in the following table:\n",
    "\n",
    "![](table4.png)\n",
    "\n",
    "A poissón distribution was proposed since it is defined for x = 0,1,2,3, .... using the following model:\n",
    "\n",
    "![](image1.png)\n",
    "\n",
    "Does the distribution of defective items follow this distribution?"
   ]
  },
  {
   "cell_type": "code",
   "execution_count": 11,
   "metadata": {},
   "outputs": [
    {
     "data": {
      "text/plain": [
       "Power_divergenceResult(statistic=37.72656768931596, pvalue=1.2759420913385983e-07)"
      ]
     },
     "execution_count": 11,
     "metadata": {},
     "output_type": "execute_result"
    }
   ],
   "source": [
    "# your code here: How mant times an event happend\n",
    "# H0: The sample data follow the poisson distribution\n",
    "# H1: The sample data do not follow the poisson distribution\n",
    "\n",
    "# For distribution tests, small p-values indicate that you can reject the null hypothesis and conclude \n",
    "# that your data were not drawn from a population with the specified distribution.\n",
    "\n",
    "total_observation = 60\n",
    "\n",
    "freq = [32,15,0,9,4]\n",
    "def_items = [0,1,2,3,4]\n",
    "\n",
    "mu = (0*32 + 1*15 + 3*9 + 4*4) / total_observation \n",
    "\n",
    "n_def_items = len(def_items)\n",
    "\n",
    "prob = [poisson.pmf(i,mu) for i in range(n_def_items)]\n",
    "\n",
    "exp_val = [p*total_observation for p in prob] \n",
    "\n",
    "stats.chisquare(freq, f_exp=exp_val)\n",
    "\n",
    "# p-value we can't reject the null hypothesis"
   ]
  },
  {
   "cell_type": "markdown",
   "metadata": {},
   "source": [
    "## Question 4\n",
    "A quality control engineer takes a sample of 10 tires that come out of an assembly line, and would like to verify on the basis of the data that follows, if the number of tires with defects observed over 200 days, if it is true that 5% of all tires have defects (that is, if the sample comes from a binomial population with n = 10 and p = 0.05). \n",
    "\n",
    "![](table6.png)\n"
   ]
  },
  {
   "cell_type": "code",
   "execution_count": 14,
   "metadata": {},
   "outputs": [
    {
     "data": {
      "text/plain": [
       "Power_divergenceResult(statistic=8.30617951954273, pvalue=0.015715783395951474)"
      ]
     },
     "execution_count": 14,
     "metadata": {},
     "output_type": "execute_result"
    }
   ],
   "source": [
    "# your answer here: is the sample binomial distributed? (n=10, p=0.05)\n",
    "\n",
    "from scipy.stats import binom\n",
    "\n",
    "# binomial = k success in n trials\n",
    "\n",
    "# H0: The sample data follow the binomial distribution\n",
    "# H1: The sample data do not follow the binomial distribution\n",
    "\n",
    "# For distribution tests, small p-values indicate that you can reject the null hypothesis and conclude \n",
    "# that your data were not drawn from a population with the specified distribution.\n",
    "\n",
    "total_observations = 200\n",
    "\n",
    "n = 10  # sample size\n",
    "\n",
    "ob_val = [138,53,9]\n",
    "defect = [0,1,2]\n",
    "\n",
    "n_defect = len(defect)\n",
    "\n",
    "\n",
    "probability = [binom.pmf(i,n,0.05) for i in range(n_defect -1)] # 2 probability calculations assuming poisson \n",
    "probability.append(1-sum(probability)) # 3rd probability calculation (because it's 2+)\n",
    "\n",
    "exp_val = [p*total_observations for p in probability] \n",
    "\n",
    "\n",
    "stats.chisquare(ob_val, f_exp=exp_val)\n",
    "\n",
    "# If the p-value is less than  α , then we reject the null hypothesis  H0 in favor of  HA\n",
    "# p-value =0.0157 < 0.05\n",
    "# The sample data do not follow the binomial distribution"
   ]
  },
  {
   "cell_type": "markdown",
   "metadata": {},
   "source": [
    "## Question 5\n",
    "A researcher gathers information about the patterns of physical activity (AF) of children in the fifth grade of primary school of a public school. He defines three categories of physical activity (1 = Low, 2 = Medium, 3 = High). He also inquires about the regular consumption of sugary drinks at school, and defines two categories (1 = consumed, 0 = not consumed). We would like to evaluate if there is an association between patterns of physical activity and the consumption of sugary drinks for the children of this school, at a level of 5% significance. The results are in the following table: \n",
    "\n",
    "![](table5.png)"
   ]
  },
  {
   "cell_type": "code",
   "execution_count": 15,
   "metadata": {},
   "outputs": [
    {
     "data": {
      "text/html": [
       "<div>\n",
       "<style scoped>\n",
       "    .dataframe tbody tr th:only-of-type {\n",
       "        vertical-align: middle;\n",
       "    }\n",
       "\n",
       "    .dataframe tbody tr th {\n",
       "        vertical-align: top;\n",
       "    }\n",
       "\n",
       "    .dataframe thead th {\n",
       "        text-align: right;\n",
       "    }\n",
       "</style>\n",
       "<table border=\"1\" class=\"dataframe\">\n",
       "  <thead>\n",
       "    <tr style=\"text-align: right;\">\n",
       "      <th></th>\n",
       "      <th>yes</th>\n",
       "      <th>no</th>\n",
       "    </tr>\n",
       "  </thead>\n",
       "  <tbody>\n",
       "    <tr>\n",
       "      <td>low</td>\n",
       "      <td>32</td>\n",
       "      <td>12</td>\n",
       "    </tr>\n",
       "    <tr>\n",
       "      <td>high</td>\n",
       "      <td>14</td>\n",
       "      <td>22</td>\n",
       "    </tr>\n",
       "    <tr>\n",
       "      <td>middle</td>\n",
       "      <td>6</td>\n",
       "      <td>9</td>\n",
       "    </tr>\n",
       "  </tbody>\n",
       "</table>\n",
       "</div>"
      ],
      "text/plain": [
       "        yes  no\n",
       "low      32  12\n",
       "high     14  22\n",
       "middle    6   9"
      ]
     },
     "execution_count": 15,
     "metadata": {},
     "output_type": "execute_result"
    }
   ],
   "source": [
    "# your answer here - patterns of physical activity (AF) and sugar consumption - chi-square test for independence \n",
    "# compares two variables in a contingency table to see if they are related\n",
    "\n",
    "low = [32,12]\n",
    "medium = [14,22]\n",
    "high = [6,9]\n",
    "\n",
    "df = pd.DataFrame([low,medium,high], columns = {\"yes\",\"no\"}, index = {\"low\",\"middle\",\"high\"})\n",
    "df"
   ]
  },
  {
   "cell_type": "code",
   "execution_count": 16,
   "metadata": {},
   "outputs": [
    {
     "data": {
      "text/plain": [
       "Power_divergenceResult(statistic=37.24242424242424, pvalue=8.182958137426038e-09)"
      ]
     },
     "execution_count": 16,
     "metadata": {},
     "output_type": "execute_result"
    }
   ],
   "source": [
    "# H0: Variable sugar consumption and Variable physical activity are independent\n",
    "# H1: They are not independent\n",
    "\n",
    "stats.chisquare(df.yes, f_exp=df.no)"
   ]
  },
  {
   "cell_type": "raw",
   "metadata": {},
   "source": [
    "Since the p-value is less than the significance level (0.05), we cannot accept the null hypothesis. Thus, we conclude that there is a relationship between sugar consumption and physical activity.\n",
    "A very small chi square test statistic means that the observed data fits the expected data extremely well. The expected data could be generated because of the given data. If the variables would be independent, it would be difficult to generate expected values."
   ]
  }
 ],
 "metadata": {
  "kernelspec": {
   "display_name": "Python 3",
   "language": "python",
   "name": "python3"
  },
  "language_info": {
   "codemirror_mode": {
    "name": "ipython",
    "version": 3
   },
   "file_extension": ".py",
   "mimetype": "text/x-python",
   "name": "python",
   "nbconvert_exporter": "python",
   "pygments_lexer": "ipython3",
   "version": "3.7.4"
  }
 },
 "nbformat": 4,
 "nbformat_minor": 2
}
